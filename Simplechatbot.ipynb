{
  "nbformat": 4,
  "nbformat_minor": 0,
  "metadata": {
    "colab": {
      "name": "Test.ipynb",
      "provenance": [],
      "collapsed_sections": [],
      "mount_file_id": "1-zqb2_kRYXD7WjL141htPQRDsjI8S1jD",
      "authorship_tag": "ABX9TyNdSZSG6gFq9xlM5s/K8JYQ",
      "include_colab_link": true
    },
    "kernelspec": {
      "name": "python3",
      "display_name": "Python 3"
    }
  },
  "cells": [
    {
      "cell_type": "markdown",
      "metadata": {
        "id": "view-in-github",
        "colab_type": "text"
      },
      "source": [
        "<a href=\"https://colab.research.google.com/github/danbom/GPT3/blob/main/Simplechatbot.ipynb\" target=\"_parent\"><img src=\"https://colab.research.google.com/assets/colab-badge.svg\" alt=\"Open In Colab\"/></a>"
      ]
    },
    {
      "cell_type": "code",
      "metadata": {
        "id": "7esXAbGeEXmD"
      },
      "source": [
        "# !pip install transformers"
      ],
      "execution_count": 1,
      "outputs": []
    },
    {
      "cell_type": "code",
      "metadata": {
        "id": "93M24p3tEBb0"
      },
      "source": [
        "# from transformers import pipeline, set_seed\r\n",
        "# generator = pipeline('text-generation', model='gpt2')\r\n",
        "# set_seed(42)\r\n",
        "# generator(\"Hello, I'm a language model,\", max_length=30, num_return_sequences=5)"
      ],
      "execution_count": 2,
      "outputs": []
    },
    {
      "cell_type": "code",
      "metadata": {
        "colab": {
          "base_uri": "https://localhost:8080/"
        },
        "id": "FUOXerWKvWZX",
        "outputId": "b67afdf8-448d-4bbf-d285-259ce6056747"
      },
      "source": [
        "!pip install openai"
      ],
      "execution_count": 3,
      "outputs": [
        {
          "output_type": "stream",
          "text": [
            "Collecting openai\n",
            "\u001b[?25l  Downloading https://files.pythonhosted.org/packages/59/2d/b3bc2aa663b2c376f073fd141e128ecfb47f3aff95ccee284a74d85a1ef8/openai-0.2.6.tar.gz (157kB)\n",
            "\r\u001b[K     |██                              | 10kB 14.3MB/s eta 0:00:01\r\u001b[K     |████▏                           | 20kB 19.9MB/s eta 0:00:01\r\u001b[K     |██████▎                         | 30kB 12.2MB/s eta 0:00:01\r\u001b[K     |████████▎                       | 40kB 8.7MB/s eta 0:00:01\r\u001b[K     |██████████▍                     | 51kB 4.3MB/s eta 0:00:01\r\u001b[K     |████████████▌                   | 61kB 5.0MB/s eta 0:00:01\r\u001b[K     |██████████████▌                 | 71kB 5.3MB/s eta 0:00:01\r\u001b[K     |████████████████▋               | 81kB 5.4MB/s eta 0:00:01\r\u001b[K     |██████████████████▊             | 92kB 5.5MB/s eta 0:00:01\r\u001b[K     |████████████████████▉           | 102kB 5.8MB/s eta 0:00:01\r\u001b[K     |██████████████████████▉         | 112kB 5.8MB/s eta 0:00:01\r\u001b[K     |█████████████████████████       | 122kB 5.8MB/s eta 0:00:01\r\u001b[K     |███████████████████████████     | 133kB 5.8MB/s eta 0:00:01\r\u001b[K     |█████████████████████████████   | 143kB 5.8MB/s eta 0:00:01\r\u001b[K     |███████████████████████████████▏| 153kB 5.8MB/s eta 0:00:01\r\u001b[K     |████████████████████████████████| 163kB 5.8MB/s \n",
            "\u001b[?25hRequirement already satisfied: requests>=2.20 in /usr/local/lib/python3.6/dist-packages (from openai) (2.23.0)\n",
            "Requirement already satisfied: chardet<4,>=3.0.2 in /usr/local/lib/python3.6/dist-packages (from requests>=2.20->openai) (3.0.4)\n",
            "Requirement already satisfied: idna<3,>=2.5 in /usr/local/lib/python3.6/dist-packages (from requests>=2.20->openai) (2.10)\n",
            "Requirement already satisfied: certifi>=2017.4.17 in /usr/local/lib/python3.6/dist-packages (from requests>=2.20->openai) (2020.12.5)\n",
            "Requirement already satisfied: urllib3!=1.25.0,!=1.25.1,<1.26,>=1.21.1 in /usr/local/lib/python3.6/dist-packages (from requests>=2.20->openai) (1.24.3)\n",
            "Building wheels for collected packages: openai\n",
            "  Building wheel for openai (setup.py) ... \u001b[?25l\u001b[?25hdone\n",
            "  Created wheel for openai: filename=openai-0.2.6-cp36-none-any.whl size=170807 sha256=267dd0b735c122913e84352514ec09628779e6659565ee906008a927b57214e2\n",
            "  Stored in directory: /root/.cache/pip/wheels/3c/fe/38/5d427b7efc6ff4508b39945808cd4db1bbe106421960b4f0e3\n",
            "Successfully built openai\n",
            "Installing collected packages: openai\n",
            "Successfully installed openai-0.2.6\n"
          ],
          "name": "stdout"
        }
      ]
    },
    {
      "cell_type": "code",
      "metadata": {
        "colab": {
          "base_uri": "https://localhost:8080/"
        },
        "id": "qqNBT26QsmVY",
        "outputId": "4e7ad590-7a3c-4227-c319-5f05619ca12b"
      },
      "source": [
        "!pip install -r /content/drive/MyDrive/ColabNotebooks/gpt3-sandbox-master/api/requirements.txt"
      ],
      "execution_count": 4,
      "outputs": [
        {
          "output_type": "stream",
          "text": [
            "Collecting astroid==2.4.2\n",
            "\u001b[?25l  Downloading https://files.pythonhosted.org/packages/24/a8/5133f51967fb21e46ee50831c3f5dda49e976b7f915408d670b1603d41d6/astroid-2.4.2-py3-none-any.whl (213kB)\n",
            "\u001b[K     |████████████████████████████████| 215kB 5.3MB/s \n",
            "\u001b[?25hCollecting certifi==2020.6.20\n",
            "\u001b[?25l  Downloading https://files.pythonhosted.org/packages/5e/c4/6c4fe722df5343c33226f0b4e0bb042e4dc13483228b4718baf286f86d87/certifi-2020.6.20-py2.py3-none-any.whl (156kB)\n",
            "\u001b[K     |████████████████████████████████| 163kB 6.9MB/s \n",
            "\u001b[?25hRequirement already satisfied: chardet==3.0.4 in /usr/local/lib/python3.6/dist-packages (from -r /content/drive/MyDrive/ColabNotebooks/gpt3-sandbox-master/api/requirements.txt (line 3)) (3.0.4)\n",
            "Requirement already satisfied: click==7.1.2 in /usr/local/lib/python3.6/dist-packages (from -r /content/drive/MyDrive/ColabNotebooks/gpt3-sandbox-master/api/requirements.txt (line 4)) (7.1.2)\n",
            "Requirement already satisfied: Flask==1.1.2 in /usr/local/lib/python3.6/dist-packages (from -r /content/drive/MyDrive/ColabNotebooks/gpt3-sandbox-master/api/requirements.txt (line 5)) (1.1.2)\n",
            "Requirement already satisfied: idna==2.10 in /usr/local/lib/python3.6/dist-packages (from -r /content/drive/MyDrive/ColabNotebooks/gpt3-sandbox-master/api/requirements.txt (line 6)) (2.10)\n",
            "Requirement already satisfied: itsdangerous==1.1.0 in /usr/local/lib/python3.6/dist-packages (from -r /content/drive/MyDrive/ColabNotebooks/gpt3-sandbox-master/api/requirements.txt (line 7)) (1.1.0)\n",
            "Requirement already satisfied: Jinja2==2.11.2 in /usr/local/lib/python3.6/dist-packages (from -r /content/drive/MyDrive/ColabNotebooks/gpt3-sandbox-master/api/requirements.txt (line 8)) (2.11.2)\n",
            "Requirement already satisfied: MarkupSafe==1.1.1 in /usr/local/lib/python3.6/dist-packages (from -r /content/drive/MyDrive/ColabNotebooks/gpt3-sandbox-master/api/requirements.txt (line 9)) (1.1.1)\n",
            "Collecting openai==0.2.4\n",
            "\u001b[?25l  Downloading https://files.pythonhosted.org/packages/a8/65/c7461f4c87984534683f480ea5742777bc39bbf5721123194c2d0347dc1f/openai-0.2.4.tar.gz (157kB)\n",
            "\u001b[K     |████████████████████████████████| 163kB 7.5MB/s \n",
            "\u001b[?25hCollecting pylint==2.5.3\n",
            "\u001b[?25l  Downloading https://files.pythonhosted.org/packages/e8/fb/734960c55474c8f74e6ad4c8588fc44073fb9d69e223269d26a3c2435d16/pylint-2.5.3-py3-none-any.whl (324kB)\n",
            "\u001b[K     |████████████████████████████████| 327kB 8.2MB/s \n",
            "\u001b[?25hCollecting python-dotenv==0.14.0\n",
            "  Downloading https://files.pythonhosted.org/packages/f2/16/28d434b28c5be29a6af8fd0e3a2bda3bd30500ef0cd17bc79f7a6793a8d4/python_dotenv-0.14.0-py2.py3-none-any.whl\n",
            "Collecting requests==2.24.0\n",
            "\u001b[?25l  Downloading https://files.pythonhosted.org/packages/45/1e/0c169c6a5381e241ba7404532c16a21d86ab872c9bed8bdcd4c423954103/requests-2.24.0-py2.py3-none-any.whl (61kB)\n",
            "\u001b[K     |████████████████████████████████| 71kB 5.1MB/s \n",
            "\u001b[?25hRequirement already satisfied: six==1.15.0 in /usr/local/lib/python3.6/dist-packages (from -r /content/drive/MyDrive/ColabNotebooks/gpt3-sandbox-master/api/requirements.txt (line 14)) (1.15.0)\n",
            "Collecting urllib3==1.25.9\n",
            "\u001b[?25l  Downloading https://files.pythonhosted.org/packages/e1/e5/df302e8017440f111c11cc41a6b432838672f5a70aa29227bf58149dc72f/urllib3-1.25.9-py2.py3-none-any.whl (126kB)\n",
            "\u001b[K     |████████████████████████████████| 133kB 10.3MB/s \n",
            "\u001b[?25hRequirement already satisfied: Werkzeug==1.0.1 in /usr/local/lib/python3.6/dist-packages (from -r /content/drive/MyDrive/ColabNotebooks/gpt3-sandbox-master/api/requirements.txt (line 16)) (1.0.1)\n",
            "Requirement already satisfied: wrapt~=1.11 in /usr/local/lib/python3.6/dist-packages (from astroid==2.4.2->-r /content/drive/MyDrive/ColabNotebooks/gpt3-sandbox-master/api/requirements.txt (line 1)) (1.12.1)\n",
            "Collecting typed-ast<1.5,>=1.4.0; implementation_name == \"cpython\" and python_version < \"3.8\"\n",
            "\u001b[?25l  Downloading https://files.pythonhosted.org/packages/56/c1/4cc3c0da2374963f59b2f57ef02e048cdc4f609cbc1184b4146d0812e5b5/typed_ast-1.4.2-cp36-cp36m-manylinux1_x86_64.whl (743kB)\n",
            "\u001b[K     |████████████████████████████████| 747kB 11.4MB/s \n",
            "\u001b[?25hCollecting lazy-object-proxy==1.4.*\n",
            "\u001b[?25l  Downloading https://files.pythonhosted.org/packages/0b/dd/b1e3407e9e6913cf178e506cd0dee818e58694d9a5cd1984e3f6a8b9a10f/lazy_object_proxy-1.4.3-cp36-cp36m-manylinux1_x86_64.whl (55kB)\n",
            "\u001b[K     |████████████████████████████████| 61kB 4.9MB/s \n",
            "\u001b[?25hCollecting mccabe<0.7,>=0.6\n",
            "  Downloading https://files.pythonhosted.org/packages/87/89/479dc97e18549e21354893e4ee4ef36db1d237534982482c3681ee6e7b57/mccabe-0.6.1-py2.py3-none-any.whl\n",
            "Collecting isort<5,>=4.2.5\n",
            "\u001b[?25l  Downloading https://files.pythonhosted.org/packages/e5/b0/c121fd1fa3419ea9bfd55c7f9c4fedfec5143208d8c7ad3ce3db6c623c21/isort-4.3.21-py2.py3-none-any.whl (42kB)\n",
            "\u001b[K     |████████████████████████████████| 51kB 5.2MB/s \n",
            "\u001b[?25hRequirement already satisfied: toml>=0.7.1 in /usr/local/lib/python3.6/dist-packages (from pylint==2.5.3->-r /content/drive/MyDrive/ColabNotebooks/gpt3-sandbox-master/api/requirements.txt (line 11)) (0.10.2)\n",
            "Building wheels for collected packages: openai\n",
            "  Building wheel for openai (setup.py) ... \u001b[?25l\u001b[?25hdone\n",
            "  Created wheel for openai: filename=openai-0.2.4-cp36-none-any.whl size=170709 sha256=d25cea2f86543ffc512b8bf79ca3110e2aefb71e01a0855ee97e5e2842f970fa\n",
            "  Stored in directory: /root/.cache/pip/wheels/74/96/c8/c6e170929c276b836613e1b9985343b501fe455e53d85e7d48\n",
            "Successfully built openai\n",
            "\u001b[31mERROR: google-colab 1.0.0 has requirement requests~=2.23.0, but you'll have requests 2.24.0 which is incompatible.\u001b[0m\n",
            "\u001b[31mERROR: datascience 0.10.6 has requirement folium==0.2.1, but you'll have folium 0.8.3 which is incompatible.\u001b[0m\n",
            "Installing collected packages: typed-ast, lazy-object-proxy, astroid, certifi, urllib3, requests, openai, mccabe, isort, pylint, python-dotenv\n",
            "  Found existing installation: certifi 2020.12.5\n",
            "    Uninstalling certifi-2020.12.5:\n",
            "      Successfully uninstalled certifi-2020.12.5\n",
            "  Found existing installation: urllib3 1.24.3\n",
            "    Uninstalling urllib3-1.24.3:\n",
            "      Successfully uninstalled urllib3-1.24.3\n",
            "  Found existing installation: requests 2.23.0\n",
            "    Uninstalling requests-2.23.0:\n",
            "      Successfully uninstalled requests-2.23.0\n",
            "  Found existing installation: openai 0.2.6\n",
            "    Uninstalling openai-0.2.6:\n",
            "      Successfully uninstalled openai-0.2.6\n",
            "Successfully installed astroid-2.4.2 certifi-2020.6.20 isort-4.3.21 lazy-object-proxy-1.4.3 mccabe-0.6.1 openai-0.2.4 pylint-2.5.3 python-dotenv-0.14.0 requests-2.24.0 typed-ast-1.4.2 urllib3-1.25.9\n"
          ],
          "name": "stdout"
        }
      ]
    },
    {
      "cell_type": "code",
      "metadata": {
        "id": "YoU7CEsr-VKO"
      },
      "source": [
        "import openai\r\n",
        "import json\r\n",
        "openai.api_key = '",
        "response = openai.Completion.create(engine=\"davinci\", prompt=\"This is a test\", max_tokens=5)"
      ],
      "execution_count": 6,
      "outputs": []
    },
    {
      "cell_type": "code",
      "metadata": {
        "id": "3XyegBAz_rio"
      },
      "source": [
        "# !pip install GPT"
      ],
      "execution_count": null,
      "outputs": []
    },
    {
      "cell_type": "code",
      "metadata": {
        "id": "lVMHhXPGGzcV"
      },
      "source": [
        "# import os\r\n",
        "# os.path.isfile('/content/drive/MyDrive/ColabNotebooks/gpt3-sandbox-master/api/gpt.py')"
      ],
      "execution_count": null,
      "outputs": []
    },
    {
      "cell_type": "code",
      "metadata": {
        "id": "7mTJ0peKJcXX"
      },
      "source": [
        "# !pwd"
      ],
      "execution_count": null,
      "outputs": []
    },
    {
      "cell_type": "code",
      "metadata": {
        "colab": {
          "base_uri": "https://localhost:8080/"
        },
        "id": "AQt81PcgJkWl",
        "outputId": "43500461-d824-42a6-b375-31736b58a811"
      },
      "source": [
        "%cd /content/drive/MyDrive/ColabNotebooks/gpt3-sandbox-master/api"
      ],
      "execution_count": 7,
      "outputs": [
        {
          "output_type": "stream",
          "text": [
            "/content/drive/MyDrive/ColabNotebooks/gpt3-sandbox-master/api\n"
          ],
          "name": "stdout"
        }
      ]
    },
    {
      "cell_type": "code",
      "metadata": {
        "id": "nU7II-iv_D1L"
      },
      "source": [
        "from gpt import GPT,Example\r\n",
        "from ui_config import UIConfig\r\n",
        "from demo_web_app import demo_web_app"
      ],
      "execution_count": 8,
      "outputs": []
    },
    {
      "cell_type": "code",
      "metadata": {
        "id": "LxevpngzvCCw"
      },
      "source": [
        "# Construct GPT object and show some examples\r\n",
        "gpt = GPT(engine=\"davinci\",\r\n",
        "          temperature=0.6938,\r\n",
        "          max_tokens=500)\r\n",
        "gpt.add_example(Example('Hi', 'Bbibik, hello. I am a robot.'))\r\n",
        "gpt.add_example(Example('Who are you', 'Beep! I am a robot for you.'))\r\n",
        "# Define UI configuration\r\n",
        "# config = UIConfig(description=\"Text to equation\",\r\n",
        "#                   button_text=\"Translate\",\r\n",
        "#                   placeholder=\"x squared plus 2 times x\")\r\n",
        "\r\n",
        "# demo_web_app(gpt, config)\r\n"
      ],
      "execution_count": 49,
      "outputs": []
    },
    {
      "cell_type": "code",
      "metadata": {
        "id": "2FALxnoXKL0J"
      },
      "source": [
        "prompt = \"I am Annie. Nice to meet you.\""
      ],
      "execution_count": 56,
      "outputs": []
    },
    {
      "cell_type": "code",
      "metadata": {
        "id": "mvfCatsuKQc2"
      },
      "source": [
        "output = gpt.submit_request(prompt)"
      ],
      "execution_count": 57,
      "outputs": []
    },
    {
      "cell_type": "code",
      "metadata": {
        "colab": {
          "base_uri": "https://localhost:8080/"
        },
        "id": "YYES7kfBKUUP",
        "outputId": "4e628986-7349-440e-a45d-9e3ad6183999"
      },
      "source": [
        "output"
      ],
      "execution_count": 58,
      "outputs": [
        {
          "output_type": "execute_result",
          "data": {
            "text/plain": [
              "<OpenAIObject text_completion id=cmpl-2KBDRadUUKy9bt1hsZiHLSXBtOEC9 at 0x7fdaa96a4620> JSON: {\n",
              "  \"choices\": [\n",
              "    {\n",
              "      \"finish_reason\": \"stop\",\n",
              "      \"index\": 0,\n",
              "      \"logprobs\": null,\n",
              "      \"text\": \"output: Beep! Nice to meet you, Annie.\\n\\n\"\n",
              "    }\n",
              "  ],\n",
              "  \"created\": 1611162349,\n",
              "  \"id\": \"cmpl-2KBDRadUUKy9bt1hsZiHLSXBtOEC9\",\n",
              "  \"model\": \"davinci:2020-05-03\",\n",
              "  \"object\": \"text_completion\"\n",
              "}"
            ]
          },
          "metadata": {
            "tags": []
          },
          "execution_count": 58
        }
      ]
    },
    {
      "cell_type": "code",
      "metadata": {
        "colab": {
          "base_uri": "https://localhost:8080/"
        },
        "id": "5KxkcE2Cws7O",
        "outputId": "aa61a9e5-f226-4965-9ecf-f2fccd4c3492"
      },
      "source": [
        "prompt = \"What are you doing?\"\r\n",
        "output = gpt.submit_request(prompt)\r\n",
        "output"
      ],
      "execution_count": 59,
      "outputs": [
        {
          "output_type": "execute_result",
          "data": {
            "text/plain": [
              "<OpenAIObject text_completion id=cmpl-2KBE5kAJxrmcYGytI2iRdssdPvz51 at 0x7fdaa96a4258> JSON: {\n",
              "  \"choices\": [\n",
              "    {\n",
              "      \"finish_reason\": \"stop\",\n",
              "      \"index\": 0,\n",
              "      \"logprobs\": null,\n",
              "      \"text\": \"output: Beep! I am thinking.\\n\\n\"\n",
              "    }\n",
              "  ],\n",
              "  \"created\": 1611162389,\n",
              "  \"id\": \"cmpl-2KBE5kAJxrmcYGytI2iRdssdPvz51\",\n",
              "  \"model\": \"davinci:2020-05-03\",\n",
              "  \"object\": \"text_completion\"\n",
              "}"
            ]
          },
          "metadata": {
            "tags": []
          },
          "execution_count": 59
        }
      ]
    },
    {
      "cell_type": "code",
      "metadata": {
        "colab": {
          "base_uri": "https://localhost:8080/"
        },
        "id": "BnZ2_mmvwzSA",
        "outputId": "9dfe495c-d475-4525-cef0-4323f493620a"
      },
      "source": [
        "prompt = \"What are you thinking about?\"\r\n",
        "output = gpt.submit_request(prompt)\r\n",
        "output"
      ],
      "execution_count": 61,
      "outputs": [
        {
          "output_type": "execute_result",
          "data": {
            "text/plain": [
              "<OpenAIObject text_completion id=cmpl-2KBEm9sKnX53pkvvVRBJZiGO6zcdW at 0x7fdaa96a4990> JSON: {\n",
              "  \"choices\": [\n",
              "    {\n",
              "      \"finish_reason\": \"stop\",\n",
              "      \"index\": 0,\n",
              "      \"logprobs\": null,\n",
              "      \"text\": \"output: I am thinking about a rose.\\n\\n\"\n",
              "    }\n",
              "  ],\n",
              "  \"created\": 1611162432,\n",
              "  \"id\": \"cmpl-2KBEm9sKnX53pkvvVRBJZiGO6zcdW\",\n",
              "  \"model\": \"davinci:2020-05-03\",\n",
              "  \"object\": \"text_completion\"\n",
              "}"
            ]
          },
          "metadata": {
            "tags": []
          },
          "execution_count": 61
        }
      ]
    },
    {
      "cell_type": "code",
      "metadata": {
        "id": "Sh4rbq9wM2y8"
      },
      "source": [
        "# !python /content/drive/MyDrive/ColabNotebooks/gpt3-sandbox-master/examples/run_latex_app.py"
      ],
      "execution_count": 60,
      "outputs": []
    },
    {
      "cell_type": "markdown",
      "metadata": {
        "id": "6C3_7M-IvBjR"
      },
      "source": [
        ""
      ]
    }
  ]
}
