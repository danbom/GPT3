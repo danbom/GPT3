{
  "nbformat": 4,
  "nbformat_minor": 0,
  "metadata": {
    "colab": {
      "name": "Untitled0.ipynb",
      "provenance": [],
      "collapsed_sections": [],
      "mount_file_id": "1-zqb2_kRYXD7WjL141htPQRDsjI8S1jD",
      "authorship_tag": "ABX9TyPYR4KkKSWVrvSHU15blspF",
      "include_colab_link": true
    },
    "kernelspec": {
      "name": "python3",
      "display_name": "Python 3"
    }
  },
  "cells": [
    {
      "cell_type": "markdown",
      "metadata": {
        "id": "view-in-github",
        "colab_type": "text"
      },
      "source": [
        "<a href=\"https://colab.research.google.com/github/danbom/GPT3/blob/main/writeCode.ipynb\" target=\"_parent\"><img src=\"https://colab.research.google.com/assets/colab-badge.svg\" alt=\"Open In Colab\"/></a>"
      ]
    },
    {
      "cell_type": "code",
      "metadata": {
        "colab": {
          "base_uri": "https://localhost:8080/"
        },
        "id": "7esXAbGeEXmD",
        "outputId": "577bcf06-dc7e-4bb2-c5ae-72cf39c39172"
      },
      "source": [
        "!pip install transformers"
      ],
      "execution_count": 1,
      "outputs": [
        {
          "output_type": "stream",
          "text": [
            "Requirement already satisfied: transformers in /usr/local/lib/python3.6/dist-packages (4.2.1)\n",
            "Requirement already satisfied: requests in /usr/local/lib/python3.6/dist-packages (from transformers) (2.24.0)\n",
            "Requirement already satisfied: regex!=2019.12.17 in /usr/local/lib/python3.6/dist-packages (from transformers) (2019.12.20)\n",
            "Requirement already satisfied: tqdm>=4.27 in /usr/local/lib/python3.6/dist-packages (from transformers) (4.41.1)\n",
            "Requirement already satisfied: numpy in /usr/local/lib/python3.6/dist-packages (from transformers) (1.19.5)\n",
            "Requirement already satisfied: sacremoses in /usr/local/lib/python3.6/dist-packages (from transformers) (0.0.43)\n",
            "Requirement already satisfied: tokenizers==0.9.4 in /usr/local/lib/python3.6/dist-packages (from transformers) (0.9.4)\n",
            "Requirement already satisfied: dataclasses; python_version < \"3.7\" in /usr/local/lib/python3.6/dist-packages (from transformers) (0.8)\n",
            "Requirement already satisfied: filelock in /usr/local/lib/python3.6/dist-packages (from transformers) (3.0.12)\n",
            "Requirement already satisfied: packaging in /usr/local/lib/python3.6/dist-packages (from transformers) (20.8)\n",
            "Requirement already satisfied: importlib-metadata; python_version < \"3.8\" in /usr/local/lib/python3.6/dist-packages (from transformers) (3.3.0)\n",
            "Requirement already satisfied: urllib3!=1.25.0,!=1.25.1,<1.26,>=1.21.1 in /usr/local/lib/python3.6/dist-packages (from requests->transformers) (1.25.9)\n",
            "Requirement already satisfied: chardet<4,>=3.0.2 in /usr/local/lib/python3.6/dist-packages (from requests->transformers) (3.0.4)\n",
            "Requirement already satisfied: idna<3,>=2.5 in /usr/local/lib/python3.6/dist-packages (from requests->transformers) (2.10)\n",
            "Requirement already satisfied: certifi>=2017.4.17 in /usr/local/lib/python3.6/dist-packages (from requests->transformers) (2020.6.20)\n",
            "Requirement already satisfied: six in /usr/local/lib/python3.6/dist-packages (from sacremoses->transformers) (1.15.0)\n",
            "Requirement already satisfied: joblib in /usr/local/lib/python3.6/dist-packages (from sacremoses->transformers) (1.0.0)\n",
            "Requirement already satisfied: click in /usr/local/lib/python3.6/dist-packages (from sacremoses->transformers) (7.1.2)\n",
            "Requirement already satisfied: pyparsing>=2.0.2 in /usr/local/lib/python3.6/dist-packages (from packaging->transformers) (2.4.7)\n",
            "Requirement already satisfied: zipp>=0.5 in /usr/local/lib/python3.6/dist-packages (from importlib-metadata; python_version < \"3.8\"->transformers) (3.4.0)\n",
            "Requirement already satisfied: typing-extensions>=3.6.4; python_version < \"3.8\" in /usr/local/lib/python3.6/dist-packages (from importlib-metadata; python_version < \"3.8\"->transformers) (3.7.4.3)\n"
          ],
          "name": "stdout"
        }
      ]
    },
    {
      "cell_type": "code",
      "metadata": {
        "colab": {
          "base_uri": "https://localhost:8080/"
        },
        "id": "93M24p3tEBb0",
        "outputId": "00802d78-dd69-4e48-d734-90e07465af41"
      },
      "source": [
        "from transformers import pipeline, set_seed\r\n",
        "generator = pipeline('text-generation', model='gpt2')\r\n",
        "set_seed(42)\r\n",
        "generator(\"Hello, I'm a language model,\", max_length=30, num_return_sequences=5)"
      ],
      "execution_count": 2,
      "outputs": [
        {
          "output_type": "stream",
          "text": [
            "Some weights of GPT2Model were not initialized from the model checkpoint at gpt2 and are newly initialized: ['h.0.attn.masked_bias', 'h.1.attn.masked_bias', 'h.2.attn.masked_bias', 'h.3.attn.masked_bias', 'h.4.attn.masked_bias', 'h.5.attn.masked_bias', 'h.6.attn.masked_bias', 'h.7.attn.masked_bias', 'h.8.attn.masked_bias', 'h.9.attn.masked_bias', 'h.10.attn.masked_bias', 'h.11.attn.masked_bias']\n",
            "You should probably TRAIN this model on a down-stream task to be able to use it for predictions and inference.\n",
            "Setting `pad_token_id` to `eos_token_id`:50256 for open-end generation.\n"
          ],
          "name": "stderr"
        },
        {
          "output_type": "execute_result",
          "data": {
            "text/plain": [
              "[{'generated_text': \"Hello, I'm a language model, I didn't want to work with another language like Rust. I'm making more time for Rust. I just\"},\n",
              " {'generated_text': 'Hello, I\\'m a language model, and I think this is a great time to look at how languages and their dependencies do it,\" he said.'},\n",
              " {'generated_text': \"Hello, I'm a language model, and writing one is like writing a dictionary. I can put any number of objects together, and it keeps the\"},\n",
              " {'generated_text': \"Hello, I'm a language model, I'm a grammar model\\n\\nLinguistics [ edit ]\\n\\nThe term linguistics refers to the\"},\n",
              " {'generated_text': \"Hello, I'm a language model, not a system programming language. The language we were writing in Java was very basic and it was pretty much a\"}]"
            ]
          },
          "metadata": {
            "tags": []
          },
          "execution_count": 2
        }
      ]
    },
    {
      "cell_type": "code",
      "metadata": {
        "colab": {
          "base_uri": "https://localhost:8080/"
        },
        "id": "FUOXerWKvWZX",
        "outputId": "cecc3dc0-56b5-4128-db6a-998bfc5c0b1c"
      },
      "source": [
        "!pip install openai"
      ],
      "execution_count": 3,
      "outputs": [
        {
          "output_type": "stream",
          "text": [
            "Requirement already satisfied: openai in /usr/local/lib/python3.6/dist-packages (0.2.4)\n",
            "Requirement already satisfied: requests>=2.20; python_version >= \"3.0\" in /usr/local/lib/python3.6/dist-packages (from openai) (2.24.0)\n",
            "Requirement already satisfied: certifi>=2017.4.17 in /usr/local/lib/python3.6/dist-packages (from requests>=2.20; python_version >= \"3.0\"->openai) (2020.6.20)\n",
            "Requirement already satisfied: urllib3!=1.25.0,!=1.25.1,<1.26,>=1.21.1 in /usr/local/lib/python3.6/dist-packages (from requests>=2.20; python_version >= \"3.0\"->openai) (1.25.9)\n",
            "Requirement already satisfied: chardet<4,>=3.0.2 in /usr/local/lib/python3.6/dist-packages (from requests>=2.20; python_version >= \"3.0\"->openai) (3.0.4)\n",
            "Requirement already satisfied: idna<3,>=2.5 in /usr/local/lib/python3.6/dist-packages (from requests>=2.20; python_version >= \"3.0\"->openai) (2.10)\n"
          ],
          "name": "stdout"
        }
      ]
    },
    {
      "cell_type": "code",
      "metadata": {
        "colab": {
          "base_uri": "https://localhost:8080/"
        },
        "id": "qqNBT26QsmVY",
        "outputId": "9bf10e0f-ce7d-4f2f-8a76-10945c049b24"
      },
      "source": [
        "!pip install -r /content/drive/MyDrive/ColabNotebooks/gpt3-sandbox-master/api/requirements.txt"
      ],
      "execution_count": 4,
      "outputs": [
        {
          "output_type": "stream",
          "text": [
            "Requirement already satisfied: astroid==2.4.2 in /usr/local/lib/python3.6/dist-packages (from -r /content/drive/MyDrive/ColabNotebooks/gpt3-sandbox-master/api/requirements.txt (line 1)) (2.4.2)\n",
            "Requirement already satisfied: certifi==2020.6.20 in /usr/local/lib/python3.6/dist-packages (from -r /content/drive/MyDrive/ColabNotebooks/gpt3-sandbox-master/api/requirements.txt (line 2)) (2020.6.20)\n",
            "Requirement already satisfied: chardet==3.0.4 in /usr/local/lib/python3.6/dist-packages (from -r /content/drive/MyDrive/ColabNotebooks/gpt3-sandbox-master/api/requirements.txt (line 3)) (3.0.4)\n",
            "Requirement already satisfied: click==7.1.2 in /usr/local/lib/python3.6/dist-packages (from -r /content/drive/MyDrive/ColabNotebooks/gpt3-sandbox-master/api/requirements.txt (line 4)) (7.1.2)\n",
            "Requirement already satisfied: Flask==1.1.2 in /usr/local/lib/python3.6/dist-packages (from -r /content/drive/MyDrive/ColabNotebooks/gpt3-sandbox-master/api/requirements.txt (line 5)) (1.1.2)\n",
            "Requirement already satisfied: idna==2.10 in /usr/local/lib/python3.6/dist-packages (from -r /content/drive/MyDrive/ColabNotebooks/gpt3-sandbox-master/api/requirements.txt (line 6)) (2.10)\n",
            "Requirement already satisfied: itsdangerous==1.1.0 in /usr/local/lib/python3.6/dist-packages (from -r /content/drive/MyDrive/ColabNotebooks/gpt3-sandbox-master/api/requirements.txt (line 7)) (1.1.0)\n",
            "Requirement already satisfied: Jinja2==2.11.2 in /usr/local/lib/python3.6/dist-packages (from -r /content/drive/MyDrive/ColabNotebooks/gpt3-sandbox-master/api/requirements.txt (line 8)) (2.11.2)\n",
            "Requirement already satisfied: MarkupSafe==1.1.1 in /usr/local/lib/python3.6/dist-packages (from -r /content/drive/MyDrive/ColabNotebooks/gpt3-sandbox-master/api/requirements.txt (line 9)) (1.1.1)\n",
            "Requirement already satisfied: openai==0.2.4 in /usr/local/lib/python3.6/dist-packages (from -r /content/drive/MyDrive/ColabNotebooks/gpt3-sandbox-master/api/requirements.txt (line 10)) (0.2.4)\n",
            "Requirement already satisfied: pylint==2.5.3 in /usr/local/lib/python3.6/dist-packages (from -r /content/drive/MyDrive/ColabNotebooks/gpt3-sandbox-master/api/requirements.txt (line 11)) (2.5.3)\n",
            "Requirement already satisfied: python-dotenv==0.14.0 in /usr/local/lib/python3.6/dist-packages (from -r /content/drive/MyDrive/ColabNotebooks/gpt3-sandbox-master/api/requirements.txt (line 12)) (0.14.0)\n",
            "Requirement already satisfied: requests==2.24.0 in /usr/local/lib/python3.6/dist-packages (from -r /content/drive/MyDrive/ColabNotebooks/gpt3-sandbox-master/api/requirements.txt (line 13)) (2.24.0)\n",
            "Requirement already satisfied: six==1.15.0 in /usr/local/lib/python3.6/dist-packages (from -r /content/drive/MyDrive/ColabNotebooks/gpt3-sandbox-master/api/requirements.txt (line 14)) (1.15.0)\n",
            "Requirement already satisfied: urllib3==1.25.9 in /usr/local/lib/python3.6/dist-packages (from -r /content/drive/MyDrive/ColabNotebooks/gpt3-sandbox-master/api/requirements.txt (line 15)) (1.25.9)\n",
            "Requirement already satisfied: Werkzeug==1.0.1 in /usr/local/lib/python3.6/dist-packages (from -r /content/drive/MyDrive/ColabNotebooks/gpt3-sandbox-master/api/requirements.txt (line 16)) (1.0.1)\n",
            "Requirement already satisfied: typed-ast<1.5,>=1.4.0; implementation_name == \"cpython\" and python_version < \"3.8\" in /usr/local/lib/python3.6/dist-packages (from astroid==2.4.2->-r /content/drive/MyDrive/ColabNotebooks/gpt3-sandbox-master/api/requirements.txt (line 1)) (1.4.2)\n",
            "Requirement already satisfied: lazy-object-proxy==1.4.* in /usr/local/lib/python3.6/dist-packages (from astroid==2.4.2->-r /content/drive/MyDrive/ColabNotebooks/gpt3-sandbox-master/api/requirements.txt (line 1)) (1.4.3)\n",
            "Requirement already satisfied: wrapt~=1.11 in /usr/local/lib/python3.6/dist-packages (from astroid==2.4.2->-r /content/drive/MyDrive/ColabNotebooks/gpt3-sandbox-master/api/requirements.txt (line 1)) (1.12.1)\n",
            "Requirement already satisfied: toml>=0.7.1 in /usr/local/lib/python3.6/dist-packages (from pylint==2.5.3->-r /content/drive/MyDrive/ColabNotebooks/gpt3-sandbox-master/api/requirements.txt (line 11)) (0.10.2)\n",
            "Requirement already satisfied: isort<5,>=4.2.5 in /usr/local/lib/python3.6/dist-packages (from pylint==2.5.3->-r /content/drive/MyDrive/ColabNotebooks/gpt3-sandbox-master/api/requirements.txt (line 11)) (4.3.21)\n",
            "Requirement already satisfied: mccabe<0.7,>=0.6 in /usr/local/lib/python3.6/dist-packages (from pylint==2.5.3->-r /content/drive/MyDrive/ColabNotebooks/gpt3-sandbox-master/api/requirements.txt (line 11)) (0.6.1)\n"
          ],
          "name": "stdout"
        }
      ]
    },
    {
      "cell_type": "code",
      "metadata": {
        "id": "YoU7CEsr-VKO"
      },
      "source": [
        "import openai\r\n",
        "import json\r\n",
        "openai.api_key = \"\"\r\n",
        "response = openai.Completion.create(engine=\"davinci\", prompt=\"This is a test\", max_tokens=5)"
      ],
      "execution_count": 5,
      "outputs": []
    },
    {
      "cell_type": "code",
      "metadata": {
        "colab": {
          "base_uri": "https://localhost:8080/"
        },
        "id": "3XyegBAz_rio",
        "outputId": "7b46ae2d-12ab-40a2-cd6a-c74c770d7c13"
      },
      "source": [
        "!pip install GPT"
      ],
      "execution_count": 6,
      "outputs": [
        {
          "output_type": "stream",
          "text": [
            "Requirement already satisfied: GPT in /usr/local/lib/python3.6/dist-packages (0.2)\n"
          ],
          "name": "stdout"
        }
      ]
    },
    {
      "cell_type": "code",
      "metadata": {
        "colab": {
          "base_uri": "https://localhost:8080/"
        },
        "id": "lVMHhXPGGzcV",
        "outputId": "f5cd8690-7751-454a-a23b-0f330acf52df"
      },
      "source": [
        "import os\r\n",
        "os.path.isfile('/content/drive/MyDrive/ColabNotebooks/gpt3-sandbox-master/api/gpt.py')"
      ],
      "execution_count": 11,
      "outputs": [
        {
          "output_type": "execute_result",
          "data": {
            "text/plain": [
              "True"
            ]
          },
          "metadata": {
            "tags": []
          },
          "execution_count": 11
        }
      ]
    },
    {
      "cell_type": "code",
      "metadata": {
        "colab": {
          "base_uri": "https://localhost:8080/"
        },
        "id": "7mTJ0peKJcXX",
        "outputId": "f7b2e607-ecc1-4b65-8475-d09892e978f7"
      },
      "source": [
        "!pwd"
      ],
      "execution_count": 13,
      "outputs": [
        {
          "output_type": "stream",
          "text": [
            "/content\n"
          ],
          "name": "stdout"
        }
      ]
    },
    {
      "cell_type": "code",
      "metadata": {
        "colab": {
          "base_uri": "https://localhost:8080/"
        },
        "id": "AQt81PcgJkWl",
        "outputId": "7dd30db7-f619-49a9-b18c-52282b89c319"
      },
      "source": [
        "%cd /content/drive/MyDrive/ColabNotebooks/gpt3-sandbox-master/api"
      ],
      "execution_count": 14,
      "outputs": [
        {
          "output_type": "stream",
          "text": [
            "/content/drive/MyDrive/ColabNotebooks/gpt3-sandbox-master/api\n"
          ],
          "name": "stdout"
        }
      ]
    },
    {
      "cell_type": "code",
      "metadata": {
        "id": "nU7II-iv_D1L"
      },
      "source": [
        "from gpt import GPT,Example\r\n",
        "from ui_config import UIConfig\r\n",
        "from demo_web_app import demo_web_app"
      ],
      "execution_count": 39,
      "outputs": []
    },
    {
      "cell_type": "code",
      "metadata": {
        "id": "LxevpngzvCCw"
      },
      "source": [
        "# Construct GPT object and show some examples\r\n",
        "gpt = GPT(engine=\"davinci\",\r\n",
        "          temperature=0.5,\r\n",
        "          max_tokens=100)\r\n",
        "gpt.add_example(Example('a red button that says stop', '<button style={{color: \"white\", backgroundColor: \"red\"}}>Stop</button>'))\r\n",
        "gpt.add_example(Example('a blue box that contains 3 yellow circles with red borders', '<div style={{backgroundColor: \"blue\" padding: 20}}><div style={{backgroundColor: \"yellow\",border: \"5px solid red\",borderRadius:\"50%\", padding: 20, width: 100, height:100}}></div><div style={{backgroundColor: \"yellow\",border: \"5px solid red\",borderRadius:\"50%\", padding: 20, width: 100, height:100}}></div><div style={{backgroundColor: \"yellow\",border: \"5px solid red\",borderRadius:\"50%\", padding: 20, width: 100, height:100}}></div></div>'))\r\n",
        "# gpt.add_example(Example('x에 대한 x 제곱 + 2 곱하기 x의 기울기', '\\\\nabla_x x^2 + 2x'))\r\n",
        "# gpt.add_example(Example('2 곱하기 x의 로그', '\\\\log{2x}'))\r\n",
        "# gpt.add_example(Example('x 제곱 + y 제곱 + z 제곱과 같음', 'x^2 + y^2 = z^2'))\r\n",
        "\r\n",
        "# Define UI configuration\r\n",
        "# config = UIConfig(description=\"Text to equation\",\r\n",
        "#                   button_text=\"Translate\",\r\n",
        "#                   placeholder=\"x squared plus 2 times x\")\r\n",
        "\r\n",
        "# demo_web_app(gpt, config)\r\n"
      ],
      "execution_count": 72,
      "outputs": []
    },
    {
      "cell_type": "code",
      "metadata": {
        "id": "2FALxnoXKL0J"
      },
      "source": [
        "prompt = \"a button that looks like a watermelon\""
      ],
      "execution_count": 73,
      "outputs": []
    },
    {
      "cell_type": "code",
      "metadata": {
        "id": "mvfCatsuKQc2"
      },
      "source": [
        "output = gpt.submit_request(prompt)"
      ],
      "execution_count": 74,
      "outputs": []
    },
    {
      "cell_type": "code",
      "metadata": {
        "colab": {
          "base_uri": "https://localhost:8080/"
        },
        "id": "YYES7kfBKUUP",
        "outputId": "bfa94824-a99e-4233-9a02-5c6babae6a74"
      },
      "source": [
        "output"
      ],
      "execution_count": 75,
      "outputs": [
        {
          "output_type": "execute_result",
          "data": {
            "text/plain": [
              "<OpenAIObject text_completion id=cmpl-2K0sYreqlPM0QnlW2T99qHYLhwjnD at 0x7fb8fd558db0> JSON: {\n",
              "  \"choices\": [\n",
              "    {\n",
              "      \"finish_reason\": \"stop\",\n",
              "      \"index\": 0,\n",
              "      \"logprobs\": null,\n",
              "      \"text\": \"output: <button style={{padding: 20, width: 100, height: 100, backgroundColor: \\\"green\\\", borderRadius: \\\"50%\\\", border: \\\"5px solid red\\\", borderColor: \\\"red\\\", boxShadow: \\\"0px 0px 10px 0px rgba(0,0,0,0.3)\\\"}}>Watermelon</button>\\n\\n\"\n",
              "    }\n",
              "  ],\n",
              "  \"created\": 1611122614,\n",
              "  \"id\": \"cmpl-2K0sYreqlPM0QnlW2T99qHYLhwjnD\",\n",
              "  \"model\": \"davinci:2020-05-03\",\n",
              "  \"object\": \"text_completion\"\n",
              "}"
            ]
          },
          "metadata": {
            "tags": []
          },
          "execution_count": 75
        }
      ]
    },
    {
      "cell_type": "code",
      "metadata": {
        "colab": {
          "base_uri": "https://localhost:8080/"
        },
        "id": "Sh4rbq9wM2y8",
        "outputId": "12936e41-fa7f-4c07-e330-58054a29b243"
      },
      "source": [
        "!python /content/drive/MyDrive/ColabNotebooks/gpt3-sandbox-master/examples/run_latex_app.py"
      ],
      "execution_count": 33,
      "outputs": [
        {
          "output_type": "stream",
          "text": [
            "Traceback (most recent call last):\n",
            "  File \"/content/drive/MyDrive/ColabNotebooks/gpt3-sandbox-master/examples/run_latex_app.py\", line 34, in <module>\n",
            "    demo_web_app(gpt, config)\n",
            "  File \"/content/drive/MyDrive/ColabNotebooks/gpt3-sandbox-master/api/demo_web_app.py\", line 21, in demo_web_app\n",
            "    app.config.from_envvar(CONFIG_VAR)\n",
            "  File \"/usr/local/lib/python3.6/dist-packages/flask/config.py\", line 109, in from_envvar\n",
            "    \"point to a configuration file\" % variable_name\n",
            "RuntimeError: The environment variable 'OPENAI_CONFIG' is not set and as such configuration could not be loaded.  Set this variable and make it point to a configuration file\n"
          ],
          "name": "stdout"
        }
      ]
    },
    {
      "cell_type": "markdown",
      "metadata": {
        "id": "6C3_7M-IvBjR"
      },
      "source": [
        ""
      ]
    }
  ]
}